{
 "cells": [
  {
   "cell_type": "code",
   "execution_count": 1,
   "id": "9850dc79",
   "metadata": {},
   "outputs": [
    {
     "name": "stdout",
     "output_type": "stream",
     "text": [
      "Toyota Innova\n",
      "Toyota Innova\n"
     ]
    }
   ],
   "source": [
    "class car:\n",
    "    \n",
    "    #method \n",
    "    def car_details(self):\n",
    "        print(\"Toyota\",\"Innova\")\n",
    "#creating object\n",
    "vehicle = car()\n",
    "\n",
    "#Calling object\n",
    "car.car_details(vehicle)\n",
    "#or\n",
    "vehicle.car_details()  # Preffered "
   ]
  },
  {
   "cell_type": "code",
   "execution_count": 5,
   "id": "801b05a3",
   "metadata": {},
   "outputs": [
    {
     "name": "stdout",
     "output_type": "stream",
     "text": [
      "camry black Innova white\n"
     ]
    }
   ],
   "source": [
    "class car:\n",
    "    pass\n",
    "\n",
    "vehicle = car()\n",
    "vehicle1 = car()\n",
    "\n",
    "vehicle.model = \"camry\"\n",
    "vehicle.color = \"black\"\n",
    "\n",
    "vehicle1.model = \"Innova\"\n",
    "vehicle1.color = \"white\"\n",
    "\n",
    "print(vehicle.model, vehicle.color , vehicle1.model ,vehicle1.color )"
   ]
  },
  {
   "cell_type": "code",
   "execution_count": 6,
   "id": "8f8e741c",
   "metadata": {},
   "outputs": [
    {
     "name": "stdout",
     "output_type": "stream",
     "text": [
      "Camry,red\n",
      "Hilux,White\n"
     ]
    }
   ],
   "source": [
    "class car:\n",
    "    def __init__(self,model,color):\n",
    "        self.model = model\n",
    "        self.color = color\n",
    "        \n",
    "    def car_details(self):\n",
    "        print(f'{self.model},{self.color}')\n",
    "        \n",
    "vehicle = car(\"Camry\",\"red\")\n",
    "vehicle1 = car(\"Hilux\",\"White\")\n",
    "\n",
    "vehicle.car_details()\n",
    "vehicle1.car_details()"
   ]
  },
  {
   "cell_type": "code",
   "execution_count": null,
   "id": "dfd53315",
   "metadata": {},
   "outputs": [],
   "source": [
    "#Polymorphism"
   ]
  },
  {
   "cell_type": "code",
   "execution_count": 7,
   "id": "e57a0141",
   "metadata": {},
   "outputs": [
    {
     "name": "stdout",
     "output_type": "stream",
     "text": [
      "Servicing required, schedule service\n",
      "Multiple faults detected, please schedule service\n",
      "Please reach out to service center or airbag will not deploy.\n",
      "Please check the break pads and break oil or reach out to service center\n"
     ]
    }
   ],
   "source": [
    "# Polymorphism - Duck Typin \n",
    "\n",
    "class car:\n",
    "  def warning(self):\n",
    "    return \"Servicing required, schedule service\"\n",
    "\n",
    "class EngineLight:\n",
    "  def warning(self):\n",
    "    return \"Multiple faults detected, please schedule service\"\n",
    "\n",
    "class Airbag:\n",
    "  def warning(self):\n",
    "    return \"Please reach out to service center or airbag will not deploy.\"\n",
    "\n",
    "class Brake:\n",
    "  def warning(self):\n",
    "    return \"Please check the break pads and break oil or reach out to service center\"\n",
    "    \n",
    "vehicle1 = car()\n",
    "print(vehicle1.warning())\n",
    "\n",
    "vehicle1 = EngineLight()\n",
    "print(vehicle1.warning())\n",
    "\n",
    "vehicle1 = Airbag()\n",
    "print(vehicle1.warning())\n",
    "\n",
    "vehicle1 = Brake()\n",
    "print(vehicle1.warning())"
   ]
  },
  {
   "cell_type": "code",
   "execution_count": null,
   "id": "07a4cc26",
   "metadata": {},
   "outputs": [],
   "source": [
    "#Polymorphism - Runtime Polymorphism - Method Overriding\n",
    "\n",
    "# Polymorphism\n",
    "\n",
    "class car: #Parent Class\n",
    " def warning(self):\n",
    "    print(\"Servicing required, schedule service\")\n",
    "  \n",
    "class EngineLight(car):\n",
    "  def warning(self):\n",
    "    print(\"Multiple faults detected, please schedule service\")\n",
    "\n",
    "class Airbag(car):\n",
    "  def warning(self):\n",
    "    print(\"Please reach out to service center or airbag will not deploy.\")\n",
    "\n",
    "class Brake(car):\n",
    "  def warning (self):\n",
    "    print(\"Please check the break pads and break oil or reach out to service center\")\n",
    "\n",
    "# vehcile1 = electrical()\n",
    "# vehcile1.warning()\n",
    "\n",
    "# vehicle1 = car()\n",
    "# vehicle1 = engine()\n",
    "# vehicle1.warning()\n",
    "\n",
    "vehicle4 = [car(), EngineLight(), Airbag(), Brake()]                          \n",
    "\n",
    "for vehicle in vehicle4:\n",
    "  vehicle.warning()"
   ]
  },
  {
   "cell_type": "code",
   "execution_count": null,
   "id": "d5345bfe",
   "metadata": {},
   "outputs": [],
   "source": [
    "#Inheritance"
   ]
  },
  {
   "cell_type": "code",
   "execution_count": null,
   "id": "68a37a18",
   "metadata": {},
   "outputs": [],
   "source": [
    "class car:  #parent class \n",
    "  def start(self):\n",
    "    print(\"Car is starting...\")\n",
    "\n",
    "class engine(car):  #child class inheriting from car the parent class\n",
    "  def check_engine(self):\n",
    "    print(\"Checking engine status\")\n",
    "\n",
    "vehicle = engine() #Assigning object to child class\n",
    "vehicle.start() #and still be able to access method of parent class\n",
    "vehicle.check_engine() #and obviously can access child class method as well. "
   ]
  },
  {
   "cell_type": "code",
   "execution_count": null,
   "id": "0f6e3b56",
   "metadata": {},
   "outputs": [],
   "source": [
    "class Engine:\n",
    "    def engine_info(self):\n",
    "        print(\"Engine is powerful\")\n",
    "\n",
    "class Transmission:\n",
    "    def transmission_info(self):\n",
    "        print(\"Transmission is smooth\")\n",
    "\n",
    "class Car(Engine, Transmission):  # Car inherits from Engine & Transmission\n",
    "    def car_info(self):\n",
    "        print(\"This is a high-performance car\")\n",
    "\n",
    "car = Car()\n",
    "car.engine_info()\n",
    "car.transmission_info()\n",
    "car.car_info()"
   ]
  },
  {
   "cell_type": "code",
   "execution_count": null,
   "id": "e5605a35",
   "metadata": {},
   "outputs": [],
   "source": [
    "class Grandfather:  # Base Class\n",
    "    def house(self):\n",
    "        print(\"This is Grandfather's house.\")\n",
    "\n",
    "class Father(Grandfather):  # Inheriting from Grandfather\n",
    "    def car(self):\n",
    "        print(\"Father owns a car.\")\n",
    "\n",
    "class Son(Father):  # Inheriting from Father\n",
    "    def bike(self):\n",
    "        print(\"Son owns a bike.\")\n",
    "\n",
    "# Object of Son class\n",
    "s = Son()\n",
    "s.house()  # Grandfathers method\n",
    "s.car()    # Fathers method\n",
    "s.bike()   # Sons method"
   ]
  },
  {
   "cell_type": "code",
   "execution_count": null,
   "id": "5973fbbe",
   "metadata": {},
   "outputs": [],
   "source": [
    "class Parent:  # Base Class\n",
    "    def family_name(self):\n",
    "        print(\"We belong to the Sharma family.\")\n",
    "\n",
    "class Son(Parent):  # Child 1\n",
    "    def profession(self):\n",
    "        print(\"Son is an Engineer.\")\n",
    "\n",
    "class Daughter(Parent):  # Child 2\n",
    "    def hobby(self):\n",
    "        print(\"Daughter loves painting.\")\n",
    "\n",
    "# Creating objects of child classes\n",
    "s = Son()\n",
    "d = Daughter()\n",
    "\n",
    "s.family_name()  # Parent method\n",
    "s.profession()   # Son method\n",
    "\n",
    "d.family_name()  # Parent method\n",
    "d.hobby()        # Daughter  method"
   ]
  },
  {
   "cell_type": "code",
   "execution_count": 15,
   "id": "e72c1457",
   "metadata": {},
   "outputs": [
    {
     "name": "stdout",
     "output_type": "stream",
     "text": [
      "Model: Civic\n"
     ]
    }
   ],
   "source": [
    "class carmanufacturer : \n",
    "  def __init__(self, brand, model, price):\n",
    "    self.brand = brand #Public Variable\n",
    "    self._model = model #Protected Variable \n",
    "    self.__price = price #Private Variable \n",
    "    \n",
    "  def ShowCarDetails(self): #Public method\n",
    "    print(f\"Brand: {self.brand} - Model: {self._model}\")\n",
    "    \n",
    "  def _UpdateModel(self, new_model): #Protected Method \n",
    "    self._model = new_model\n",
    "    print(f\"model updated to {self._model}\")\n",
    "    \n",
    "  def _ShowModel(self): # Protected Method, need not update\n",
    "    print(f\"Model: {self._model}\")\n",
    "    \n",
    "\n",
    "    \n",
    "  def get_model(self): \n",
    "    return self._model\n",
    "\n",
    "  def __UpdatePrice(self, new_price): #Private Method\n",
    "    self.__price = new_price\n",
    "    print(f\"Price updated to {self.__price}\")\n",
    "    \n",
    "  def __ShowPrice(self): #Private Method, create private method and then assign it in public method. \n",
    "      print(f\"Price: {self.__price}\")\n",
    "\n",
    "  def ShowPriceDetails(self):\n",
    "     self.__ShowPrice() \n",
    "    \n",
    "  def get_price(self):\n",
    "        return self.__price\n",
    "    \n",
    "#   def set_price(self, new_price):\n",
    "#     if new_price > 0:\n",
    "#       self.__price = new_price\n",
    "#       print(f\"New price set to: {self.__price}\")\n",
    "#     else:\n",
    "#       print(\"Invalid price!\")\n",
    "    \n",
    "# car = carmanufacturer(\"Honda\",\"Civic\",10000)\n",
    "\n",
    "# print(\"Brand:\",car.brand) #accessing public variable (no problem)\n",
    "\n",
    "# print(\"Model:\",car._model)#accessing protected variable (will get output but not recommended to access like this)\n",
    "\n",
    "#how? safest way to do is using setter and getter. \n",
    "\n",
    "# print(\"Price:\", car.__price) #accessing private variable #throws an error\n",
    "\n",
    "# print(car.get_price())\n",
    "\n",
    "# car.ShowCarDetails() #Public Method \n",
    "\n",
    "# car._UpdateModel(\"Accord\") \n",
    "\n",
    "# car._ShowModel()"
   ]
  },
  {
   "cell_type": "code",
   "execution_count": 16,
   "id": "cb2e962b",
   "metadata": {},
   "outputs": [
    {
     "name": "stdout",
     "output_type": "stream",
     "text": [
      "Honda engine started with key ignition.\n",
      "Honda engine stopped.\n",
      "Petrol or Diesel\n",
      "Tesla engine started with push button.\n",
      "Tesla engine stopped automatically.\n"
     ]
    }
   ],
   "source": [
    "from abc import ABC, abstractmethod  # ABC module is used for abstraction\n",
    "\n",
    "# Abstract Class\n",
    "class Car(ABC):\n",
    "    \n",
    "    @abstractmethod\n",
    "    def start(self):  # Abstract method\n",
    "        pass\n",
    "\n",
    "    @abstractmethod\n",
    "    def stop(self):   # Abstract method\n",
    "        pass\n",
    "\n",
    "    def fuel_type(self):  # Concrete method (normal method, not abstract)\n",
    "        print(\"Petrol or Diesel\")\n",
    "\n",
    "# Concrete Class (inheriting from abstract class)\n",
    "class Honda(Car):\n",
    "    def start(self):  # Implementing abstract method\n",
    "        print(\"Honda engine started with key ignition.\")\n",
    "\n",
    "    def stop(self):  # Implementing abstract method\n",
    "        print(\"Honda engine stopped.\")\n",
    "\n",
    "# Concrete Class (inheriting from abstract class)\n",
    "class Tesla(Car):\n",
    "    def start(self):\n",
    "        print(\"Tesla engine started with push button.\")\n",
    "\n",
    "    def stop(self):\n",
    "        print(\"Tesla engine stopped automatically.\")\n",
    "\n",
    "# Trying to create an object of Abstract class will give an error\n",
    "# my_car = Car()  # This will throw an error\n",
    "\n",
    "honda_car = Honda()\n",
    "honda_car.start()  # \"Honda engine started with key ignition.\"\n",
    "honda_car.stop()   # \"Honda engine stopped.\"\n",
    "honda_car.fuel_type()  # \"Petrol or Diesel\"\n",
    "\n",
    "tesla_car = Tesla()\n",
    "tesla_car.start()  # \"Tesla engine started with push button.\"\n",
    "tesla_car.stop()   # \"Tesla engine stopped automatically.\""
   ]
  },
  {
   "cell_type": "code",
   "execution_count": null,
   "id": "5ddaf425",
   "metadata": {},
   "outputs": [],
   "source": [
    "class Car:\n",
    "    def start(self):  # Base class method\n",
    "        raise NotImplementedError(\"Subclass must implement abstract method\")\n",
    "\n",
    "    def stop(self):\n",
    "        raise NotImplementedError(\"Subclass must implement abstract method\")\n",
    "\n",
    "class Honda(Car):\n",
    "    def start(self):  \n",
    "        print(\"Honda engine started.\")\n",
    "\n",
    "    def stop(self):  \n",
    "        print(\"Honda engine stopped.\")\n",
    "\n",
    "class Tesla(Car):\n",
    "    def start(self):\n",
    "        print(\"Tesla engine started.\")\n",
    "\n",
    "    def stop(self):\n",
    "        print(\"Tesla engine stopped.\")\n",
    "\n",
    "# honda = Car()  #  This will raise an error\n",
    "honda = Honda()\n",
    "honda.start()  # \"Honda engine started.\"\n",
    "honda.stop()   #  \"Honda engine stopped.\"\n",
    "\n",
    "tesla = Tesla()\n",
    "tesla.start()  # \"Tesla engine started.\"\n",
    "tesla.stop()   # \"Tesla engine stopped.\""
   ]
  },
  {
   "cell_type": "code",
   "execution_count": null,
   "id": "d3f6713e",
   "metadata": {},
   "outputs": [],
   "source": []
  },
  {
   "cell_type": "code",
   "execution_count": null,
   "id": "fb6fa48b",
   "metadata": {},
   "outputs": [],
   "source": []
  },
  {
   "cell_type": "code",
   "execution_count": null,
   "id": "d6c7d1ac",
   "metadata": {},
   "outputs": [],
   "source": []
  },
  {
   "cell_type": "code",
   "execution_count": null,
   "id": "86286b7f",
   "metadata": {},
   "outputs": [],
   "source": []
  },
  {
   "cell_type": "code",
   "execution_count": null,
   "id": "a914fc7c",
   "metadata": {},
   "outputs": [],
   "source": []
  },
  {
   "cell_type": "code",
   "execution_count": null,
   "id": "b5be941c",
   "metadata": {},
   "outputs": [],
   "source": []
  },
  {
   "cell_type": "code",
   "execution_count": null,
   "id": "f673556b",
   "metadata": {},
   "outputs": [],
   "source": []
  },
  {
   "cell_type": "code",
   "execution_count": null,
   "id": "0c8f1dc4",
   "metadata": {},
   "outputs": [],
   "source": []
  },
  {
   "cell_type": "code",
   "execution_count": null,
   "id": "7b0dd0d3",
   "metadata": {},
   "outputs": [],
   "source": []
  }
 ],
 "metadata": {
  "kernelspec": {
   "display_name": "Python 3",
   "language": "python",
   "name": "python3"
  },
  "language_info": {
   "codemirror_mode": {
    "name": "ipython",
    "version": 3
   },
   "file_extension": ".py",
   "mimetype": "text/x-python",
   "name": "python",
   "nbconvert_exporter": "python",
   "pygments_lexer": "ipython3",
   "version": "3.8.8"
  }
 },
 "nbformat": 4,
 "nbformat_minor": 5
}
